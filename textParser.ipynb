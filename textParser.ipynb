{
 "cells": [
  {
   "cell_type": "code",
   "execution_count": 74,
   "id": "6326273c",
   "metadata": {},
   "outputs": [],
   "source": [
    "import numpy as np\n",
    "import pandas as pd\n",
    "import string\n",
    "import json"
   ]
  },
  {
   "cell_type": "code",
   "execution_count": 77,
   "id": "f854381d",
   "metadata": {},
   "outputs": [],
   "source": [
    "f = open('imdb_data.json',)\n",
    "data = json.load(f)\n",
    "   \n",
    "\n",
    "array = []\n",
    "for movie in data:\n",
    "    array.append(movie['movie_storyLines'])\n",
    "f.close()\n",
    "\n",
    "\n",
    "unifiedArray = []\n",
    "for movieStory in array:\n",
    "    temp = ''\n",
    "    for text in movieStory:\n",
    "        temp += str(text)\n",
    "    unifiedArray.append(temp)"
   ]
  },
  {
   "cell_type": "code",
   "execution_count": 78,
   "id": "a8d31500",
   "metadata": {},
   "outputs": [],
   "source": [
    "def convertToASCII(inputText):\n",
    "    #print(inputText)\n",
    "    temp = ''.join([x for x in inputText if x in string.ascii_letters + '\\'- ']).lower()\n",
    "    temp = temp.rstrip('\\n ')\n",
    "    words = temp.split(' ')\n",
    "    \n",
    "    return words"
   ]
  },
  {
   "cell_type": "code",
   "execution_count": 95,
   "id": "cfcf2e35",
   "metadata": {},
   "outputs": [
    {
     "name": "stdout",
     "output_type": "stream",
     "text": [
      "['as', 'a', 'new', 'threat', 'to', 'the', 'galaxy', 'rises', 'rey', 'desert', 'scavenger', 'and', 'finn', 'an', 'ex-stormtrooper', 'must', 'join', 'han', 'solo', 'chewbacca', 'search', 'for', 'one', 'hope', 'of', 'restoring', 'peace', 'years', 'after', 'defeat', 'darth', 'vader', 'empire', 'from', 'planet', 'jakku', 'finds', 'bb-', 'droid', 'that', 'knows', 'whereabouts', 'long', 'lost', 'luke', 'skywalker', 'well', 'rogue', 'stormtrooper', 'two', 'smugglers', 'are', 'thrown', 'into', 'middle', 'battle', 'between', 'resistance', 'daunting', 'legions', 'first', 'ordera', 'daisy', 'ridley', 'renegade', 'john', 'boyega', 'enlist', 'help', 'legendary', 'smugglersfreedom', 'fighters', 'harrison', 'ford', 'transport', 'carrying', 'information', 'regarding', 'jedi', 'master', 'general', 'leia', 'organa', 'before', 'it', 'falls', 'hands', 'kylo', 'ren', 'orderwhen', 'critical', 'is', 'placed', 'simple', 'both', 'evil', 'order', 'heroic', 'go', 'searching', 'then', 'something', 'neither', 'them', 'planned', 'happens', 'keeps', 'her', 'own', 'who', 'hopes', 'leave', 'his', 'past', 'behind', 'him', 'crosses', 'paths', 'with', 'breaks', 'news', 'what', 'exactly', 'importance', 'next', 'thing', 'either', 'know', 'they', 'on', 'run', 'in', 'withhold', 'meet', 'pair', 'old', 'buddies', 'few', 'skirmishes', 'determined', 'brought', 'base', 'there', 'multiple', 'plans', 'hatched', 'against', 'while', 'secret', 'slowly', 'surely', 'working', 'itself', 'out', 'ago', 'was', 'defeated', 'now', 'has', 'risen', 'ashes', 'called', 'come', 'contact', 'contains', 'map', 'vanished', 'find', 'themselves', 'monumental', 'conflict', 'good', 'will', 'see', 'faces', 'newthirty', 'galactic', 'vanquished', 'attempt', 'rule', 'only', 'small', 'bunch', 'heroes', 'have', 'ability', 'stop', 'meanwhile', 'female', 'named', 'teams', 'up', 'stormtroopter', 'return', 'containing', 'masterthe', 'no', 'more', 'its', 'place', \"vader's\", 'legacy', 'aims', 'consolidate', 'power', 'across', 'however', 'trying', 'last', 'wipe', 'off', 'face', 'desperate', 'bid', 'bide', 'time', 'sends', 'veteran', 'x-wing', 'pilot', 'poe', 'dameron', \"skywalker's\", 'location', 'race', 'tyranny', \"galaxy's\", 'greatest', \"it's\", 'too', 'late', 'fate', 'universe', 'hangs', 'balance']\n"
     ]
    }
   ],
   "source": [
    "corpus = []\n",
    "for story in unifiedArray:\n",
    "    corpus.append(convertToASCII(story))\n",
    "\n",
    "vocabulary = []\n",
    "for story in corpus:\n",
    "    tempList = []\n",
    "    for word in story:\n",
    "        if word not in tempList:\n",
    "            tempList.append(word)\n",
    "    \n",
    "    vocabulary.append(tempList)\n",
    "\n",
    "\n",
    "print(vocabulary[0])"
   ]
  },
  {
   "cell_type": "code",
   "execution_count": null,
   "id": "e0de3cdf",
   "metadata": {},
   "outputs": [],
   "source": []
  }
 ],
 "metadata": {
  "kernelspec": {
   "display_name": "Python 3 (ipykernel)",
   "language": "python",
   "name": "python3"
  },
  "language_info": {
   "codemirror_mode": {
    "name": "ipython",
    "version": 3
   },
   "file_extension": ".py",
   "mimetype": "text/x-python",
   "name": "python",
   "nbconvert_exporter": "python",
   "pygments_lexer": "ipython3",
   "version": "3.9.13"
  }
 },
 "nbformat": 4,
 "nbformat_minor": 5
}
